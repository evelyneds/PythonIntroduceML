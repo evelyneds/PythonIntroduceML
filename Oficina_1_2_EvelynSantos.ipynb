{
  "nbformat": 4,
  "nbformat_minor": 0,
  "metadata": {
    "colab": {
      "name": "Oficina_1.2_EvelynSantos.ipynb",
      "provenance": [],
      "collapsed_sections": [],
      "toc_visible": true,
      "authorship_tag": "ABX9TyO5DEyzL9A4Q23Y1vcNxP5r",
      "include_colab_link": true
    },
    "kernelspec": {
      "name": "python3",
      "display_name": "Python 3"
    },
    "language_info": {
      "name": "python"
    }
  },
  "cells": [
    {
      "cell_type": "markdown",
      "metadata": {
        "id": "view-in-github",
        "colab_type": "text"
      },
      "source": [
        "<a href=\"https://colab.research.google.com/github/evelynsantos/LeadDell_python/blob/main/Oficina_1_2_EvelynSantos.ipynb\" target=\"_parent\"><img src=\"https://colab.research.google.com/assets/colab-badge.svg\" alt=\"Open In Colab\"/></a>"
      ]
    },
    {
      "cell_type": "markdown",
      "metadata": {
        "id": "mw8scUdeLv2s"
      },
      "source": [
        "Oficina Microlearning 2\n",
        "\n",
        "DESAFIO: foi discutido em aula como converter de uma string, ou seja, o tipo str, para um float. Como fazer o caminho inverso, converter de um float para str? Reflita um pouco e tente não só apresentar o valor numérico como escrever algum texto que auxilie a leitura do usuário."
      ]
    },
    {
      "cell_type": "code",
      "metadata": {
        "id": "3s-C3JnOLBuD",
        "colab": {
          "base_uri": "https://localhost:8080/"
        },
        "outputId": "f29affac-9ece-420c-88f5-d6dec9ef8f24"
      },
      "source": [
        "nome =input('Digite o seu nome ')\n",
        "peso= float(input('Digite o seu peso '))\n",
        "altura= float(input('Digite a sua altura '))\n",
        "imc = peso/(altura*altura)\n",
        "\n",
        "print('Olá '+nome+', o seu imc é '+ str(imc))\n",
        "\n",
        "\n"
      ],
      "execution_count": 12,
      "outputs": [
        {
          "output_type": "stream",
          "text": [
            "Digite o seu nome Evelyn\n",
            "Digite o seu peso 79\n",
            "Digite a sua altura 1.61\n",
            "Olá Evelyn o seu imc é 30.477219243084754\n"
          ],
          "name": "stdout"
        }
      ]
    }
  ]
}